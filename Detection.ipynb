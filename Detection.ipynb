{
 "cells": [
  {
   "cell_type": "markdown",
   "id": "80bf8d4a",
   "metadata": {},
   "source": [
    "# 3 layers of detection on a few PE files\n",
    "### AV1, AV2, AV3\n",
    "### Hashes of files considered\n",
    "\n"
   ]
  },
  {
   "cell_type": "code",
   "execution_count": 102,
   "id": "90030ed2",
   "metadata": {},
   "outputs": [
    {
     "name": "stdout",
     "output_type": "stream",
     "text": [
      "0     6d810d55f0e23f579169db2eb78cad4fb8f038c5279411...\n",
      "1     88a247b58d284dffaea7c0d7cde2a7979d9e2317e832a1...\n",
      "2     d3eeb7953bd70e26355dc3d137f76ae8db88b7f77b99b2...\n",
      "3     25b651798dd8863d2756417dcba34d1802b50a568ee3ef...\n",
      "4     466059f14e8570d79611515b1f22758954e07c8275f356...\n",
      "5     efa4e5ea8bb605462924b9a5db269eed6cd74b9a1487e4...\n",
      "6     7b5b0ce909723174dfb5addb7a7a339604e7ee6c67f3c0...\n",
      "7     44b422c25be5fc52261ca2f4c3781f9d37bae887af83bf...\n",
      "8     c9d057c5c5b3989c8bc44cd014758cc1d5d1287419b6a4...\n",
      "9     39ea74a8a18f900f51bc2be7c6897341ab867cb17370c6...\n",
      "10    0d5ff3dfb41faab6fef24442df6738f1f9eb443690d63d...\n",
      "11    e31429f190badb98819f6a9a87a0da37758aa97d8badaf...\n",
      "12    47adfb751807fe3313aa8ac3ade27d3ac47a6ec4aa3f74...\n",
      "13    a427cb7a0b453e547318f271d7517a1cb8923b631f5b48...\n",
      "14    d5a3e2499ff189f96cc8f0142a731b81b4901155e687a5...\n",
      "15    d5a3e2499ff189f96cc8f0142a731b81b4901155e687a5...\n",
      "16    32821027d5af75ad14acdfc8efd4577623a57efc0d473e...\n",
      "17    7fa2cede2f7bef08d7e5984a65bf8da6830f3c9c43cb28...\n",
      "18    5cf7c82b3a9c03d89446748af81e712cac8dc9a1de57bd...\n",
      "19    e1bbdbb68491bf9e9a3b0e8c3a9c1a08907be92fc39b0c...\n",
      "20    a427cb7a0b453e547318f271d7517a1cb8923b631f5b48...\n",
      "21    40933733cb71c67aca9d9060fe94840ddfe284f7fae74e...\n",
      "Name: sha256, dtype: object\n",
      "20 unique samples 22 analyses\n"
     ]
    }
   ],
   "source": [
    "import pandas as pd\n",
    "df = pd.read_csv(\"data.csv\")\n",
    "print(df[\"sha256\"])\n",
    "print(df[\"sha256\"].nunique(), \"unique samples\", len(df), \"analyses\")\n"
   ]
  },
  {
   "cell_type": "markdown",
   "id": "e29de9e8",
   "metadata": {},
   "source": [
    "## Step 1: Static analysis\n",
    "We have 2 static analysis AV engines: AV_1 and AV_2.\n",
    "\n",
    "N.B. these detections are taken from real antivirus using historic scans and the labels for some of these samples have now changed."
   ]
  },
  {
   "cell_type": "code",
   "execution_count": 86,
   "id": "8f416ff1",
   "metadata": {},
   "outputs": [
    {
     "name": "stdout",
     "output_type": "stream",
     "text": [
      "AV_1   AV_2 \n",
      "False  False    8\n",
      "       True     4\n",
      "True   False    2\n",
      "       True     4\n",
      "Name: AV_total, dtype: int64\n",
      "                                               sha256   AV_1   AV_2  AV_total\n",
      "13  a427cb7a0b453e547318f271d7517a1cb8923b631f5b48...  False  False         0\n",
      "20  a427cb7a0b453e547318f271d7517a1cb8923b631f5b48...    NaN  False         0\n",
      "14  d5a3e2499ff189f96cc8f0142a731b81b4901155e687a5...   True   True         1\n",
      "15  d5a3e2499ff189f96cc8f0142a731b81b4901155e687a5...   True  False         1\n"
     ]
    }
   ],
   "source": [
    "# Check agreement \n",
    "df[\"AV_total\"] = df[[\"AV_1\", \"AV_2\"]].fillna(0).astype(int).max(axis=1)\n",
    "print(df.groupby([\"AV_1\", \"AV_2\"])[\"AV_total\"].count())\n",
    "\n",
    "print(df[df.duplicated(subset=[\"sha256\"], keep=False)].sort_values(by=\"sha256\")[[\n",
    "    \"sha256\", \"AV_1\", \"AV_2\", \"AV_total\"]])\n"
   ]
  },
  {
   "cell_type": "code",
   "execution_count": 87,
   "id": "23a417e8",
   "metadata": {},
   "outputs": [
    {
     "name": "stdout",
     "output_type": "stream",
     "text": [
      "9\n"
     ]
    }
   ],
   "source": [
    "# Eliminate samples with at least one detection\n",
    "print(df[df[\"AV_total\"] >= 1][\"sha256\"].nunique())"
   ]
  },
  {
   "cell_type": "code",
   "execution_count": 88,
   "id": "ff59eefc",
   "metadata": {},
   "outputs": [
    {
     "name": "stdout",
     "output_type": "stream",
     "text": [
      "    AV_total  malware  false_negative  false_positive\n",
      "0          1        1           False           False\n",
      "1          1        1           False           False\n",
      "2          1        1           False           False\n",
      "3          1        1           False           False\n",
      "4          1        1           False           False\n",
      "5          1        1           False           False\n",
      "6          0        0           False           False\n",
      "7          0        0           False           False\n",
      "8          0        0           False           False\n",
      "9          0        0           False           False\n",
      "10         0        0           False           False\n",
      "11         0        0           False           False\n",
      "12         1        1           False           False\n",
      "13         0        0           False           False\n",
      "14         1        1           False           False\n",
      "15         1        1           False           False\n",
      "16         0        0           False           False\n",
      "17         0        1            True           False\n",
      "18         0        0           False           False\n",
      "19         1        1           False           False\n",
      "20         0        0           False           False\n",
      "21         0        0           False           False\n"
     ]
    }
   ],
   "source": [
    "# At this point we can check how well the AVs are working... \n",
    "df[\"false_negative\"] = (df[\"malware\"] == 1) & (df[\"AV_total\"] == 0)\n",
    "df[\"false_positive\"] = (df[\"malware\"] == 0) & (df[\"AV_total\"] == 1)\n",
    "print(df[[\"AV_total\", \"malware\", \"false_negative\", \"false_positive\"]])"
   ]
  },
  {
   "cell_type": "markdown",
   "id": "06274d02",
   "metadata": {},
   "source": [
    "# Step 2. Dynamic analysis \n",
    "\n",
    "All of these samples have been run in a (cuckoo) sandbox - let's:\n",
    "1. Look at the signatures\n",
    "2. Use a heuristic model to classsify the samples"
   ]
  },
  {
   "cell_type": "code",
   "execution_count": 89,
   "id": "556efdb3",
   "metadata": {},
   "outputs": [],
   "source": [
    "# Let's look at some signatures (from cuckoo sandbox)\n",
    "# The names give a reasonable clue as to the signature\n",
    "\n",
    "dynamic_signatures = ['antivm_memory_available', 'infostealer_browser', 'suspicious_process', \n",
    "              'stealth_window', 'installs_bho', 'infostealer_mail',\n",
    "              'persistence_autorun', 'antivm_queries_computername', 'antisandbox_mouse_hook', \n",
    "              'infostealer_keylogger', 'stealth_hiddenfile', 'stops_service', \n",
    "              'antivm_network_adapters', 'deletes_self', 'uses_windows_utilities', \n",
    "              'creates_service', 'creates_doc', 'creates_shortcut', 'ransomware_dropped_files', \n",
    "              'dropper', 'persistence_ads', 'exploit_heapspray', 'has_wmi', 'infostealer_im', \n",
    "              'generates_crypto_key', 'browser_startpage', 'ransomware_message', 'timeGetTime', \n",
    "              'multiple_useragents', 'antisandbox_idletime']"
   ]
  },
  {
   "cell_type": "code",
   "execution_count": 90,
   "id": "6d149925",
   "metadata": {},
   "outputs": [
    {
     "name": "stdout",
     "output_type": "stream",
     "text": [
      "    antivm_memory_available  allocates_rwx  suspicious_process  \\\n",
      "17                      1.0            1.0                 2.0   \n",
      "\n",
      "    stealth_window  infostealer_mail  deletes_self  persistence_ads  \\\n",
      "17             1.0              48.0           2.0              1.0   \n",
      "\n",
      "    ransomware_message  timeGetTime  \n",
      "17                 1.0        422.0  \n"
     ]
    }
   ],
   "source": [
    "# look at the postive match signatures for the false negative\n",
    "print(df[df[\"false_negative\"]][signatures].dropna(axis=1))"
   ]
  },
  {
   "cell_type": "code",
   "execution_count": 91,
   "id": "1da00110",
   "metadata": {},
   "outputs": [],
   "source": [
    "# features for heuristic model\n",
    "api_calls = ['AssignProcessToJobObject', 'CertControlStore', 'CertOpenStore', 'CoCreateInstance', \n",
    "             'CoCreateInstanceEx', 'CoGetClassObject', 'CoInitializeEx', 'CoInitializeSecurity', \n",
    "             'CoUninitialize', 'ControlService', 'CopyFileA', 'CopyFileW', 'CreateActCtxW', 'CreateDirectoryW', \n",
    "             'CreateJobObjectW', 'CreateProcessInternalW', 'CreateServiceW', 'CreateThread', \n",
    "             'CreateToolhelp32Snapshot', 'CryptAcquireContextA', 'CryptAcquireContextW', 'CryptCreateHash', \n",
    "             'CryptDecodeObjectEx', 'CryptExportKey', 'CryptHashData', 'CryptUnprotectData', 'DeleteFileW', \n",
    "             'DeviceIoControl', 'DrawTextExW', 'EnumWindows', 'FindFirstFileExW', 'FindResourceA', \n",
    "             'FindResourceExA', 'FindResourceExW', 'FindResourceW', 'FindWindowExW', 'FindWindowW', \n",
    "             'GetAdaptersAddresses', 'GetAdaptersInfo', 'GetBestInterfaceEx', 'GetComputerNameA', \n",
    "             'GetComputerNameW', 'GetCursorPos', 'GetFileAttributesExW', 'GetFileAttributesW', \n",
    "             'GetFileInformationByHandle', 'GetFileInformationByHandleEx', 'GetFileSize', 'GetFileSizeEx', \n",
    "             'GetFileType', 'GetFileVersionInfoSizeW', 'GetFileVersionInfoW', 'GetForegroundWindow', \n",
    "             'GetKeyState', 'GetNativeSystemInfo', 'GetShortPathNameW', 'GetSystemDirectoryA', \n",
    "             'GetSystemDirectoryW', 'GetSystemInfo', 'GetSystemMetrics', 'GetSystemTimeAsFileTime', \n",
    "             'GetSystemWindowsDirectoryA', 'GetSystemWindowsDirectoryW', 'GetTempPathW', 'GetTimeZoneInformation',\n",
    "             'GetUserNameA', 'GetUserNameW', 'GetVolumeNameForVolumeMountPointW', 'GetVolumePathNameW', \n",
    "             'GetVolumePathNamesForVolumeNameW', 'GlobalMemoryStatus', 'GlobalMemoryStatusEx', 'HttpOpenRequestW', \n",
    "             'HttpSendRequestW', 'IWbemServices_ExecQuery', 'InternetCloseHandle', 'InternetConnectW', \n",
    "             'InternetCrackUrlA', 'InternetCrackUrlW', 'InternetGetConnectedState', 'InternetOpenW', \n",
    "             'InternetQueryOptionA', 'InternetSetOptionA', 'InternetSetStatusCallback', 'IsDebuggerPresent', \n",
    "             'LdrGetDllHandle', 'LdrGetProcedureAddress', 'LdrLoadDll', 'LdrUnloadDll', 'LoadResource', \n",
    "             'LoadStringA', 'LoadStringW', 'LookupAccountSidW', 'LookupPrivilegeValueW', \n",
    "             'NtAllocateVirtualMemory', 'NtClose', 'NtCreateFile', 'NtCreateKey', 'NtCreateMutant', \n",
    "             'NtCreateSection', 'NtCreateThreadEx', 'NtDelayExecution', 'NtDeviceIoControlFile', \n",
    "             'NtDuplicateObject', 'NtEnumerateKey', 'NtEnumerateValueKey', 'NtFreeVirtualMemory', \n",
    "             'NtMapViewOfSection', 'NtOpenDirectoryObject', 'NtOpenFile', 'NtOpenKey', 'NtOpenKeyEx', \n",
    "             'NtOpenMutant', 'NtOpenProcess', 'NtOpenSection', 'NtOpenThread', 'NtProtectVirtualMemory', \n",
    "             'NtQueryAttributesFile', 'NtQueryDirectoryFile', 'NtQueryFullAttributesFile', \n",
    "             'NtQueryInformationFile', 'NtQueryKey', 'NtQuerySystemInformation', 'NtQueryValueKey', 'NtReadFile', \n",
    "             'NtReadVirtualMemory', 'NtResumeThread', 'NtSetInformationFile', 'NtSetValueKey', \n",
    "             'NtTerminateProcess', 'NtUnmapViewOfSection', 'NtWriteFile', 'NtWriteVirtualMemory', \n",
    "             'OleInitialize', 'OpenSCManagerA','OpenSCManagerW', 'OpenServiceA', 'OpenServiceW', \n",
    "             'Process32FirstW', 'Process32NextW','ReadProcessMemory', 'RegCloseKey', 'RegCreateKeyExA', \n",
    "             'RegCreateKeyExW', 'RegDeleteKeyA', 'RegDeleteKeyW', 'RegDeleteValueA', 'RegDeleteValueW', \n",
    "             'RegEnumKeyExA', 'RegEnumKeyExW', 'RegEnumKeyW', 'RegEnumValueA', 'RegEnumValueW', \n",
    "             'RegOpenKeyExA', 'RegOpenKeyExW', 'RegQueryInfoKeyW', 'RegQueryValueExA', 'RegQueryValueExW', \n",
    "             'RegSetValueExA', 'RegSetValueExW', 'RemoveDirectoryA', 'RtlAddVectoredContinueHandler', \n",
    "             'RtlAddVectoredExceptionHandler', 'RtlRemoveVectoredExceptionHandler', 'SHGetFolderPathW',\n",
    "             'SHGetSpecialFolderLocation', 'SearchPathW', 'SendNotifyMessageA', \n",
    "             'SendNotifyMessageW', 'SetEndOfFile', 'SetErrorMode', 'SetFileAttributesW', 'SetFilePointer', \n",
    "             'SetFilePointerEx', 'SetFileTime', 'SetInformationJobObject', 'SetUnhandledExceptionFilter', \n",
    "             'SetWindowsHookExA', 'SetWindowsHookExW', 'ShellExecuteExW', 'SizeofResource', 'StartServiceA', \n",
    "             'StartServiceW', 'UnhookWindowsHookEx', 'UuidCreate', 'WSAConnect', 'WSASocketW', 'WSAStartup', \n",
    "             'WriteConsoleA', 'WriteConsoleW']\n"
   ]
  },
  {
   "cell_type": "code",
   "execution_count": 95,
   "id": "0d742b3b",
   "metadata": {},
   "outputs": [
    {
     "name": "stdout",
     "output_type": "stream",
     "text": [
      "         AssignProcessToJobObject  CertControlStore  CertOpenStore  \\\n",
      "malware                                                              \n",
      "0                        0.000000          0.000000       0.000000   \n",
      "1                        0.181818          0.181818       5.090909   \n",
      "\n",
      "         CoCreateInstance  CoCreateInstanceEx  CoGetClassObject  \\\n",
      "malware                                                           \n",
      "0                1.272727            0.000000          0.000000   \n",
      "1                2.727273            0.181818          0.363636   \n",
      "\n",
      "         CoInitializeEx  CoInitializeSecurity  CoUninitialize  ControlService  \\\n",
      "malware                                                                         \n",
      "0              5.272727              0.090909        3.727273        0.000000   \n",
      "1              4.636364              0.272727        2.545455        0.181818   \n",
      "\n",
      "         ...  SizeofResource  StartServiceA  StartServiceW  \\\n",
      "malware  ...                                                 \n",
      "0        ...        0.636364       0.000000       0.000000   \n",
      "1        ...        2.000000       0.090909       0.090909   \n",
      "\n",
      "         UnhookWindowsHookEx  UuidCreate  WSAConnect  WSASocketW  WSAStartup  \\\n",
      "malware                                                                        \n",
      "0                   0.000000    3.000000    0.090909    0.727273    0.454545   \n",
      "1                   0.181818    0.727273    0.000000    0.000000    0.727273   \n",
      "\n",
      "         WriteConsoleA  WriteConsoleW  \n",
      "malware                                \n",
      "0             3.272727       0.000000  \n",
      "1            11.727273       0.727273  \n",
      "\n",
      "[2 rows x 190 columns]\n"
     ]
    }
   ],
   "source": [
    "df[api_calls] = df[api_calls].fillna(0)\n",
    "print(df.groupby(\"malware\")[api_calls].mean())"
   ]
  },
  {
   "cell_type": "code",
   "execution_count": 99,
   "id": "cd284196",
   "metadata": {},
   "outputs": [
    {
     "name": "stdout",
     "output_type": "stream",
     "text": [
      "    dynamic_classifier  malware  false_negative  false_positive\n",
      "0                  1.0        1           False           False\n",
      "1                  1.0        1           False           False\n",
      "2                  1.0        1           False           False\n",
      "3                  1.0        1           False           False\n",
      "4                  1.0        1           False           False\n",
      "5                  1.0        1           False           False\n",
      "6                  0.0        0           False           False\n",
      "7                  0.0        0           False           False\n",
      "8                  0.0        0           False           False\n",
      "9                  0.0        0           False           False\n",
      "10                 0.0        0           False           False\n",
      "11                 1.0        0           False            True\n",
      "12                 0.0        1            True           False\n",
      "13                 0.0        0           False           False\n",
      "14                 1.0        1           False           False\n",
      "15                 1.0        1           False           False\n",
      "16                 0.0        0           False           False\n",
      "17                 1.0        1           False           False\n",
      "18                 0.0        0           False           False\n",
      "19                 0.0        1            True           False\n",
      "20                 0.0        0           False           False\n",
      "21                 0.0        0           False           False\n",
      "accuracy: 86.36 FPR 9.09 FNR 4.55\n"
     ]
    }
   ],
   "source": [
    "# We have a machine learning model (gradient boosted machine) api call frequencies \n",
    "# achieved 92% accuracy with no feature selection (but test samples not split by date)\n",
    "\n",
    "import pickle\n",
    "with open(\"dynamic_classifier.pkl\", \"rb\") as f:\n",
    "    gbm_model = pickle.load(f)\n",
    "\n",
    "df[\"dynamic_classifier\"] = gbm_model.predict(df[api_calls])\n",
    "\n",
    "df[\"false_negative\"] = (df[\"malware\"] == 1) & (df[\"dynamic_classifier\"] == 0)\n",
    "df[\"false_positive\"] = (df[\"malware\"] == 0) & (df[\"dynamic_classifier\"] == 1)\n",
    "print(df[[\"dynamic_classifier\", \"malware\", \"false_negative\", \"false_positive\"]])\n",
    "print(\"accuracy:\", (df[\"dynamic_classifier\"] == df[\"malware\"]).mean().round(4) * 100, \n",
    "      \"FPR\", df[\"false_negative\"].mean().round(4) * 100, \n",
    "      \"FNR\",  df[\"false_positive\"].mean().round(4) * 100)"
   ]
  },
  {
   "cell_type": "markdown",
   "id": "b0116448",
   "metadata": {},
   "source": [
    "## Combine static and dynamic"
   ]
  },
  {
   "cell_type": "code",
   "execution_count": 101,
   "id": "b90764c7",
   "metadata": {},
   "outputs": [
    {
     "name": "stdout",
     "output_type": "stream",
     "text": [
      "    dynamic_classifier  AV_total  malware  false_negative  false_positive\n",
      "0                  1.0         1        1           False           False\n",
      "1                  1.0         1        1           False           False\n",
      "2                  1.0         1        1           False           False\n",
      "3                  1.0         1        1           False           False\n",
      "4                  1.0         1        1           False           False\n",
      "5                  1.0         1        1           False           False\n",
      "6                  0.0         0        0           False           False\n",
      "7                  0.0         0        0           False           False\n",
      "8                  0.0         0        0           False           False\n",
      "9                  0.0         0        0           False           False\n",
      "10                 0.0         0        0           False           False\n",
      "11                 1.0         0        0           False            True\n",
      "12                 0.0         1        1           False           False\n",
      "13                 0.0         0        0           False           False\n",
      "14                 1.0         1        1           False           False\n",
      "15                 1.0         1        1           False           False\n",
      "16                 0.0         0        0           False           False\n",
      "17                 1.0         0        1           False           False\n",
      "18                 0.0         0        0           False           False\n",
      "19                 0.0         1        1           False           False\n",
      "20                 0.0         0        0           False           False\n",
      "21                 0.0         0        0           False           False\n",
      "accuracy: 95.45 FPR 0.0 FNR 4.55\n"
     ]
    }
   ],
   "source": [
    "df[\"depth_classifier\"] = df[[\"AV_total\", \"dynamic_classifier\"]].max(axis=1)\n",
    "\n",
    "df[\"false_negative\"] = (df[\"malware\"] == 1) & (df[\"depth_classifier\"] == 0)\n",
    "df[\"false_positive\"] = (df[\"malware\"] == 0) & (df[\"depth_classifier\"] == 1)\n",
    "print(df[[\"dynamic_classifier\", \"AV_total\", \"malware\", \"false_negative\", \"false_positive\"]])\n",
    "print(\"accuracy:\", (df[\"depth_classifier\"] == df[\"malware\"]).mean().round(4) * 100, \n",
    "      \"FPR\", df[\"false_negative\"].mean().round(4) * 100, \n",
    "      \"FNR\",  df[\"false_positive\"].mean().round(4) * 100)"
   ]
  },
  {
   "cell_type": "code",
   "execution_count": null,
   "id": "6fcffe85",
   "metadata": {},
   "outputs": [],
   "source": []
  }
 ],
 "metadata": {
  "kernelspec": {
   "display_name": "Python 3",
   "language": "python",
   "name": "python3"
  },
  "language_info": {
   "codemirror_mode": {
    "name": "ipython",
    "version": 3
   },
   "file_extension": ".py",
   "mimetype": "text/x-python",
   "name": "python",
   "nbconvert_exporter": "python",
   "pygments_lexer": "ipython3",
   "version": "3.6.9"
  }
 },
 "nbformat": 4,
 "nbformat_minor": 5
}
